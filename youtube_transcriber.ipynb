{
  "cells": [
    {
      "cell_type": "code",
      "execution_count": null,
      "metadata": {
        "id": "AjKwyyvQuvKE"
      },
      "outputs": [],
      "source": [
        "!pip install openai-whisper\n",
        "!pip install pytube\n",
        "!pip install unidecode"
      ]
    },
    {
      "cell_type": "code",
      "execution_count": 2,
      "metadata": {
        "id": "YgCVm79kuyPr"
      },
      "outputs": [],
      "source": [
        "import whisper\n",
        "import torch \n",
        "import os\n",
        "import re\n",
        "from pytube import YouTube\n",
        "from google.colab import drive\n",
        "from unidecode import unidecode"
      ]
    },
    {
      "cell_type": "code",
      "execution_count": 3,
      "metadata": {
        "colab": {
          "base_uri": "https://localhost:8080/"
        },
        "id": "LW0qBHnGu0kE",
        "outputId": "350e36d9-f39f-4193-b995-afd7e2cdcc19"
      },
      "outputs": [
        {
          "output_type": "stream",
          "name": "stdout",
          "text": [
            "Mounted at /content/gdrive\n"
          ]
        }
      ],
      "source": [
        "drive.mount('/content/gdrive')"
      ]
    },
    {
      "cell_type": "code",
      "execution_count": null,
      "metadata": {
        "colab": {
          "base_uri": "https://localhost:8080/"
        },
        "id": "9LMtOy7PwMI9",
        "outputId": "0b96187d-5039-4bf5-f6f8-807eb0c3cc22"
      },
      "outputs": [
        {
          "name": "stdout",
          "output_type": "stream",
          "text": [
            "Kis-Tóth Ágnes: Minden, amit tudni szerettél volna a fekete lyukakról, ... (Atomcsill, 2022.01.27.)\n",
            "kis-toth_agnes_minden_amit_tudni_szerettel_volna_a_fekete_lyukakrol__atomcsill_20220127.mp3\n"
          ]
        }
      ],
      "source": [
        "video = 'https://www.youtube.com/watch?v=rToQgaiMy4M'\n",
        "title = YouTube(video).title\n",
        "filename = title.replace(' ', '_').lower()\n",
        "filename = re.sub(r'[^\\w.-]', '', filename).replace('__','_').replace('.','')\n",
        "filename = unidecode(filename) + '.mp3'\n",
        "print(title)\n",
        "print(filename)"
      ]
    },
    {
      "cell_type": "code",
      "execution_count": null,
      "metadata": {
        "colab": {
          "base_uri": "https://localhost:8080/",
          "height": 53
        },
        "id": "cwkR3BiYwnjN",
        "outputId": "5c731270-fbaf-44da-ff8c-91c1a9dad07a"
      },
      "outputs": [
        {
          "data": {
            "application/vnd.google.colaboratory.intrinsic+json": {
              "type": "string"
            },
            "text/plain": [
              "'/content/gdrive/MyDrive/youtube_transcriber/kis-toth_agnes_minden_amit_tudni_szerettel_volna_a_fekete_lyukakrol__atomcsill_20220127.mp3'"
            ]
          },
          "execution_count": 7,
          "metadata": {},
          "output_type": "execute_result"
        }
      ],
      "source": [
        "path = '/content/gdrive/MyDrive/youtube_transcriber'\n",
        "data = YouTube(video)\n",
        "audio = data.streams.get_audio_only()\n",
        "audio.download(output_path=path, filename=filename)"
      ]
    },
    {
      "cell_type": "code",
      "execution_count": null,
      "metadata": {
        "id": "qo558qAMzViN"
      },
      "outputs": [],
      "source": [
        "device = \"cuda\" if torch.cuda.is_available() else \"cpu\"\n",
        "whisper_model = whisper.load_model(\"large-v2\", device=device)"
      ]
    },
    {
      "cell_type": "code",
      "execution_count": null,
      "metadata": {
        "colab": {
          "background_save": true
        },
        "id": "URVDSKVl0bAb"
      },
      "outputs": [],
      "source": [
        "result = whisper_model.transcribe(f'{path}/{filename}')"
      ]
    },
    {
      "cell_type": "code",
      "execution_count": null,
      "metadata": {
        "colab": {
          "background_save": true
        },
        "id": "UsDPTrbT07ac"
      },
      "outputs": [],
      "source": [
        "filename_text = filename.replace('.mp3', '_nl.txt')\n",
        "text_nl = result[\"text\"].replace('. ', '.\\n')\n",
        "with open(f'{path}/{filename_text}', 'w') as f:\n",
        "    f.write(text_nl)"
      ]
    },
    {
      "cell_type": "code",
      "execution_count": null,
      "metadata": {
        "id": "bVKUchC51bea"
      },
      "outputs": [],
      "source": []
    }
  ],
  "metadata": {
    "accelerator": "GPU",
    "colab": {
      "provenance": []
    },
    "kernelspec": {
      "display_name": "Python 3",
      "name": "python3"
    },
    "language_info": {
      "name": "python"
    }
  },
  "nbformat": 4,
  "nbformat_minor": 0
}